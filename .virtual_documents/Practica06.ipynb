











# Carga de Paquetes y Librerías a utilizar

#Básicos (Standard)
import requests
import http.client
import json
from scipy.stats import skew, kurtosis, mode
import numpy as np # sirve para realizar procesamientos básicos númericos en datos cuantitativos
import pandas as pd #sirve para realizar los procesos ETL en un conjunto de datos
import time  #sirve para la manipulación de datos en diferentes formatos de tiempo
import os # Permite la ejecución de comandos a niverl sistema operativo
#Graficadores (Plots)
from sqlalchemy import create_engine
import matplotlib.pyplot as plt
import plotly.express as px
import seaborn as sns
from pymongo import MongoClient








!cd 
!dir





df= pd.read_csv('salaries.csv')





print(type(df))


df.info()








df.size ## Devuelve el total de datos que contiene el DataFrame


print(len(df)) ##Devuelve el total de tuplas o registros, iteraciones del DataFrame





print(df.head) ##Devuelve los primeros y ultimos 5 registros o tuplas del DataFrame


df.tail() ## Devuelve los ultimos datos DataFrame , si no se especifica cuantos automaticamente devulve los ùltimos 5


df.describe() ## Realiza un reporte estadìstico sobre columnas completamente numericas(cuantitativas)





df.isnull()


df.notnull()  ## Realiza un mapeo de la matriz original colocando valores booleanos de a cuerdo a la condición de si es nulo








df_duplicados_eliminados = df.drop_duplicates() ##Este método elimina los datos duplicados en base al criterio de la totalidad de los datos, esto se debe realizar con extrema 
#                    cautela dado que si no se tiene un atributo identificador se alterán resultados esperados


df_duplicados_eliminados.info()





df_vacios_eliminados = df.dropna()


df_vacios_eliminados.info()





df_eliminar_sin_salario = df.dropna(subset=['salary_in_usd'])


df_eliminar_sin_salario.info()


print("DataFrame Original:")
print(len(df))
print("DataFrame sin datos de cualquier columna")
print(len(df_vacios_eliminados))
print("DataFrame sin datos de la columna salario")
print(len(df_eliminar_sin_salario))





df_valoresNulosSustituido = df.fillna(value='N/A')





df_valoresNulosSustituido





df_valoresNulosSustituido.info()





df.info()





df_valoresNulosSustituido.describe()





df_SalariosNulosSustituidos = df.fillna({'salary':0.0,'salary_in_usd':0.0})





df_SalariosNulosSustituidos





df_SalariosNulosSustituidos.describe()





df['experience_level'].unique()





df['experience_level'].value_counts(dropna=False)





df_filtrado = df[df['experience_level'].isin(['SE', 'MI', 'EN', 'EX'])]


df_filtrado['experience_level'].unique()








## Comando básico de graficación de datos, el cuál sin parámetros tomará cada columna  numérica (cuantitativa) y mostrara su conteo
df.hist();


df_vacios_eliminados.hist()





# Crear el histograma y guardar el objeto Axes
ax = df_vacios_eliminados['work_year'].hist()

# Obtener los contadores (heights) y las posiciones (bins)
counts, bins = np.histogram(df_vacios_eliminados['work_year'].dropna())

# Para colocar el texto, calculamos las posiciones centrales de cada barra
for count, x in zip(counts, 0.5 * (bins[:-1] + bins[1:])):
    ax.text(x, count, str(count), ha='center', va='bottom')

plt.show()








## Arreglo de las categorias a graficar 
analysis_categories= ['work_year','experience_level','employment_type','job_title','employee_residence','company_location','company_size']
# Configuración de color
def_color='blue'


for f in analysis_categories:
    plt.figure(figsize=(12,3))
    df[f].value_counts().plot(kind='bar',color=def_color)
    plt.title(f)
    plt.grid()
    plt.show()





# Crear la columna de rango salarial
bins = [0, 100000, 250000, float('inf')] # Definir los límites de los rangos salariales para agrupar
labels = ['0-100K', '100K-250K', '250K+']
df['salary_range'] = pd.cut(df['salary_in_usd'], bins=bins, labels=labels)



salary_counts = df_vacios_eliminados['salary_range'].value_counts().reindex(labels) # Contar cuántos empleados hay en cada rango salarial

plt.figure(figsize=(8,5)) # Crear una figura para graficar
salary_counts.plot(kind='bar', color=['#1f77b4', '#ff7f0e', '#2ca02c']) # Se usa un color diferente para cada barra para distinguir los rangos.
plt.title('Número de empleados por rango salarial') # Añadir título a la gráfica.
plt.ylabel('Número de empleados') # Etiqueta del eje Y (vertical).
plt.xlabel('Rango salarial') # Etiqueta del eje X (horizontal).
plt.grid(axis='y') # Mostrar una cuadrícula horizontal para facilitar la lectura de valores en Y.
plt.xticks(rotation=0) # Rotar las etiquetas del eje X
plt.tight_layout() # Ajustar el layout .
plt.show() # Mostrar la gráfica en pantalla.









stats_df = calculate_statistics(df, opacity=0.4, font_size='19px')
stats_df



